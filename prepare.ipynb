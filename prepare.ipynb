{
 "cells": [
  {
   "cell_type": "code",
   "execution_count": 1,
   "id": "29b12cd5",
   "metadata": {},
   "outputs": [],
   "source": [
    "import os\n",
    "import pandtelco_prepas as pd"
   ]
  },
  {
   "cell_type": "code",
   "execution_count": 2,
   "id": "7b13150f",
   "metadata": {},
   "outputs": [],
   "source": [
    "#Import all the things to work"
   ]
  },
  {
   "cell_type": "code",
   "execution_count": 3,
   "id": "872f5359",
   "metadata": {},
   "outputs": [],
   "source": [
    "from aqcuire import telco_data"
   ]
  },
  {
   "cell_type": "code",
   "execution_count": 15,
   "id": "9b47050a",
   "metadata": {},
   "outputs": [],
   "source": [
    "telco = telco_data()"
   ]
  },
  {
   "cell_type": "code",
   "execution_count": 5,
   "id": "e914eda4",
   "metadata": {},
   "outputs": [],
   "source": [
    "#Disaster, I can not use the aquired data due to 'null' being foreign, I tried to create a value for null, \n",
    "#but it was Ignored"
   ]
  },
  {
   "cell_type": "code",
   "execution_count": 16,
   "id": "4bbf6c03",
   "metadata": {},
   "outputs": [],
   "source": [
    "telco_prep= telco.drop(columns=['senior_citizen',\n",
    "                             'partner',\n",
    "                             'dependents',\n",
    "                             'internet_service_type_id',\n",
    "                             'online_security',\n",
    "                             'device_protection',\n",
    "                             'tech_support',\n",
    "                             'paperless_billing',\n",
    "                             'payment_type_id'])"
   ]
  },
  {
   "cell_type": "code",
   "execution_count": 9,
   "id": "973a5ac4",
   "metadata": {},
   "outputs": [],
   "source": [
    "#Dropping what doesn't seem necessary "
   ]
  },
  {
   "cell_type": "code",
   "execution_count": 17,
   "id": "3cd62d17",
   "metadata": {},
   "outputs": [
    {
     "data": {
      "text/html": [
       "<div>\n",
       "<style scoped>\n",
       "    .dataframe tbody tr th:only-of-type {\n",
       "        vertical-align: middle;\n",
       "    }\n",
       "\n",
       "    .dataframe tbody tr th {\n",
       "        vertical-align: top;\n",
       "    }\n",
       "\n",
       "    .dataframe thead th {\n",
       "        text-align: right;\n",
       "    }\n",
       "</style>\n",
       "<table border=\"1\" class=\"dataframe\">\n",
       "  <thead>\n",
       "    <tr style=\"text-align: right;\">\n",
       "      <th></th>\n",
       "      <th>customer_id</th>\n",
       "      <th>gender</th>\n",
       "      <th>tenure</th>\n",
       "      <th>phone_service</th>\n",
       "      <th>multiple_lines</th>\n",
       "      <th>online_backup</th>\n",
       "      <th>streaming_tv</th>\n",
       "      <th>streaming_movies</th>\n",
       "      <th>contract_type_id</th>\n",
       "      <th>monthly_charges</th>\n",
       "      <th>total_charges</th>\n",
       "      <th>churn</th>\n",
       "    </tr>\n",
       "  </thead>\n",
       "  <tbody>\n",
       "    <tr>\n",
       "      <th>0</th>\n",
       "      <td>0002-ORFBO</td>\n",
       "      <td>Female</td>\n",
       "      <td>9</td>\n",
       "      <td>Yes</td>\n",
       "      <td>No</td>\n",
       "      <td>Yes</td>\n",
       "      <td>Yes</td>\n",
       "      <td>No</td>\n",
       "      <td>2</td>\n",
       "      <td>65.6</td>\n",
       "      <td>593.3</td>\n",
       "      <td>No</td>\n",
       "    </tr>\n",
       "    <tr>\n",
       "      <th>1</th>\n",
       "      <td>0003-MKNFE</td>\n",
       "      <td>Male</td>\n",
       "      <td>9</td>\n",
       "      <td>Yes</td>\n",
       "      <td>Yes</td>\n",
       "      <td>No</td>\n",
       "      <td>No</td>\n",
       "      <td>Yes</td>\n",
       "      <td>1</td>\n",
       "      <td>59.9</td>\n",
       "      <td>542.4</td>\n",
       "      <td>No</td>\n",
       "    </tr>\n",
       "    <tr>\n",
       "      <th>2</th>\n",
       "      <td>0004-TLHLJ</td>\n",
       "      <td>Male</td>\n",
       "      <td>4</td>\n",
       "      <td>Yes</td>\n",
       "      <td>No</td>\n",
       "      <td>No</td>\n",
       "      <td>No</td>\n",
       "      <td>No</td>\n",
       "      <td>1</td>\n",
       "      <td>73.9</td>\n",
       "      <td>280.85</td>\n",
       "      <td>Yes</td>\n",
       "    </tr>\n",
       "    <tr>\n",
       "      <th>3</th>\n",
       "      <td>0011-IGKFF</td>\n",
       "      <td>Male</td>\n",
       "      <td>13</td>\n",
       "      <td>Yes</td>\n",
       "      <td>No</td>\n",
       "      <td>Yes</td>\n",
       "      <td>Yes</td>\n",
       "      <td>Yes</td>\n",
       "      <td>1</td>\n",
       "      <td>98.0</td>\n",
       "      <td>1237.85</td>\n",
       "      <td>Yes</td>\n",
       "    </tr>\n",
       "    <tr>\n",
       "      <th>4</th>\n",
       "      <td>0013-EXCHZ</td>\n",
       "      <td>Female</td>\n",
       "      <td>3</td>\n",
       "      <td>Yes</td>\n",
       "      <td>No</td>\n",
       "      <td>No</td>\n",
       "      <td>Yes</td>\n",
       "      <td>No</td>\n",
       "      <td>1</td>\n",
       "      <td>83.9</td>\n",
       "      <td>267.4</td>\n",
       "      <td>Yes</td>\n",
       "    </tr>\n",
       "  </tbody>\n",
       "</table>\n",
       "</div>"
      ],
      "text/plain": [
       "  customer_id  gender  tenure phone_service multiple_lines online_backup  \\\n",
       "0  0002-ORFBO  Female       9           Yes             No           Yes   \n",
       "1  0003-MKNFE    Male       9           Yes            Yes            No   \n",
       "2  0004-TLHLJ    Male       4           Yes             No            No   \n",
       "3  0011-IGKFF    Male      13           Yes             No           Yes   \n",
       "4  0013-EXCHZ  Female       3           Yes             No            No   \n",
       "\n",
       "  streaming_tv streaming_movies  contract_type_id  monthly_charges  \\\n",
       "0          Yes               No                 2             65.6   \n",
       "1           No              Yes                 1             59.9   \n",
       "2           No               No                 1             73.9   \n",
       "3          Yes              Yes                 1             98.0   \n",
       "4          Yes               No                 1             83.9   \n",
       "\n",
       "  total_charges churn  \n",
       "0         593.3    No  \n",
       "1         542.4    No  \n",
       "2        280.85   Yes  \n",
       "3       1237.85   Yes  \n",
       "4         267.4   Yes  "
      ]
     },
     "execution_count": 17,
     "metadata": {},
     "output_type": "execute_result"
    }
   ],
   "source": [
    "telco_prep.head()"
   ]
  },
  {
   "cell_type": "code",
   "execution_count": 11,
   "id": "b4d78975",
   "metadata": {},
   "outputs": [],
   "source": [
    "#And it's time for the main project"
   ]
  }
 ],
 "metadata": {
  "kernelspec": {
   "display_name": "Python 3 (ipykernel)",
   "language": "python",
   "name": "python3"
  },
  "language_info": {
   "codemirror_mode": {
    "name": "ipython",
    "version": 3
   },
   "file_extension": ".py",
   "mimetype": "text/x-python",
   "name": "python",
   "nbconvert_exporter": "python",
   "pygments_lexer": "ipython3",
   "version": "3.9.13"
  }
 },
 "nbformat": 4,
 "nbformat_minor": 5
}
